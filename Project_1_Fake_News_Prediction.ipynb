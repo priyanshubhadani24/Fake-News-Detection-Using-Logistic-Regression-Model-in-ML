{
  "nbformat": 4,
  "nbformat_minor": 0,
  "metadata": {
    "colab": {
      "provenance": []
    },
    "kernelspec": {
      "name": "python3",
      "display_name": "Python 3"
    },
    "language_info": {
      "name": "python"
    }
  },
  "cells": [
    {
      "cell_type": "code",
      "execution_count": null,
      "metadata": {
        "id": "0dz2Qn11oBuV"
      },
      "outputs": [],
      "source": []
    },
    {
      "cell_type": "markdown",
      "source": [
        "Dataset Description\n",
        "\n",
        "train.csv: A full training dataset with the following attributes:\n",
        "\n",
        "id: unique id for a news article\n",
        "\n",
        "title: the title of a news article\n",
        "\n",
        "author: author of the news article\n",
        "\n",
        "text: the text of the article; could be incomplete\n",
        "\n",
        "label: a label that marks the article as potentially unreliable\n",
        "\n",
        "1: Fake News\n",
        "\n",
        "0: Real News\n",
        "\n",
        "test.csv: A testing training dataset with all the same attributes at train.csv without the label.\n",
        "\n",
        "submit.csv: A sample submission that you can"
      ],
      "metadata": {
        "id": "qUk74kgotfWd"
      }
    },
    {
      "cell_type": "markdown",
      "source": [
        "Import the dependencies"
      ],
      "metadata": {
        "id": "fV-UnsFGox5L"
      }
    },
    {
      "cell_type": "code",
      "source": [
        "import numpy as np\n",
        "import pandas as pd\n",
        "import re\n",
        "from nltk.corpus import stopwords\n",
        "from nltk.stem.porter import PorterStemmer\n",
        "from sklearn.feature_extraction.text import TfidfVectorizer\n",
        "from sklearn.model_selection import train_test_split\n",
        "from sklearn.linear_model import LogisticRegression\n",
        "from sklearn.metrics import accuracy_score\n"
      ],
      "metadata": {
        "id": "2RUVcXzaoUi9"
      },
      "execution_count": null,
      "outputs": []
    },
    {
      "cell_type": "code",
      "source": [
        "import nltk\n",
        "nltk.download('stopwords')"
      ],
      "metadata": {
        "colab": {
          "base_uri": "https://localhost:8080/"
        },
        "id": "rvOIFx7qqCpV",
        "outputId": "4103df56-aea5-42a9-ab38-1575bd0474ae"
      },
      "execution_count": null,
      "outputs": [
        {
          "output_type": "stream",
          "name": "stderr",
          "text": [
            "[nltk_data] Downloading package stopwords to /root/nltk_data...\n",
            "[nltk_data]   Unzipping corpora/stopwords.zip.\n"
          ]
        },
        {
          "output_type": "execute_result",
          "data": {
            "text/plain": [
              "True"
            ]
          },
          "metadata": {},
          "execution_count": 3
        }
      ]
    },
    {
      "cell_type": "code",
      "source": [
        "# printing the stopwords in English\n",
        "print(stopwords.words('english'))"
      ],
      "metadata": {
        "colab": {
          "base_uri": "https://localhost:8080/"
        },
        "id": "Uib1oYkCrxs2",
        "outputId": "2fd26e6e-fa07-4e72-eef2-d329e98f5be1"
      },
      "execution_count": null,
      "outputs": [
        {
          "output_type": "stream",
          "name": "stdout",
          "text": [
            "['i', 'me', 'my', 'myself', 'we', 'our', 'ours', 'ourselves', 'you', \"you're\", \"you've\", \"you'll\", \"you'd\", 'your', 'yours', 'yourself', 'yourselves', 'he', 'him', 'his', 'himself', 'she', \"she's\", 'her', 'hers', 'herself', 'it', \"it's\", 'its', 'itself', 'they', 'them', 'their', 'theirs', 'themselves', 'what', 'which', 'who', 'whom', 'this', 'that', \"that'll\", 'these', 'those', 'am', 'is', 'are', 'was', 'were', 'be', 'been', 'being', 'have', 'has', 'had', 'having', 'do', 'does', 'did', 'doing', 'a', 'an', 'the', 'and', 'but', 'if', 'or', 'because', 'as', 'until', 'while', 'of', 'at', 'by', 'for', 'with', 'about', 'against', 'between', 'into', 'through', 'during', 'before', 'after', 'above', 'below', 'to', 'from', 'up', 'down', 'in', 'out', 'on', 'off', 'over', 'under', 'again', 'further', 'then', 'once', 'here', 'there', 'when', 'where', 'why', 'how', 'all', 'any', 'both', 'each', 'few', 'more', 'most', 'other', 'some', 'such', 'no', 'nor', 'not', 'only', 'own', 'same', 'so', 'than', 'too', 'very', 's', 't', 'can', 'will', 'just', 'don', \"don't\", 'should', \"should've\", 'now', 'd', 'll', 'm', 'o', 're', 've', 'y', 'ain', 'aren', \"aren't\", 'couldn', \"couldn't\", 'didn', \"didn't\", 'doesn', \"doesn't\", 'hadn', \"hadn't\", 'hasn', \"hasn't\", 'haven', \"haven't\", 'isn', \"isn't\", 'ma', 'mightn', \"mightn't\", 'mustn', \"mustn't\", 'needn', \"needn't\", 'shan', \"shan't\", 'shouldn', \"shouldn't\", 'wasn', \"wasn't\", 'weren', \"weren't\", 'won', \"won't\", 'wouldn', \"wouldn't\"]\n"
          ]
        }
      ]
    },
    {
      "cell_type": "markdown",
      "source": [
        "Data Pre-processing"
      ],
      "metadata": {
        "id": "R7mAqoR9siOv"
      }
    },
    {
      "cell_type": "code",
      "source": [
        "# loading the dataset to a pandas DataFrame\n",
        "news_dataset = pd.read_csv('/content/train.csv')"
      ],
      "metadata": {
        "id": "ZsH8oThSr75E"
      },
      "execution_count": null,
      "outputs": []
    },
    {
      "cell_type": "code",
      "source": [
        "news_dataset.shape"
      ],
      "metadata": {
        "colab": {
          "base_uri": "https://localhost:8080/"
        },
        "id": "u1hatQFytEms",
        "outputId": "a0bfd17a-3449-4899-c247-752919c31af9"
      },
      "execution_count": null,
      "outputs": [
        {
          "output_type": "execute_result",
          "data": {
            "text/plain": [
              "(20800, 5)"
            ]
          },
          "metadata": {},
          "execution_count": 6
        }
      ]
    },
    {
      "cell_type": "code",
      "source": [
        "# print the first 5 rows of the dataframe\n",
        "news_dataset.head()"
      ],
      "metadata": {
        "colab": {
          "base_uri": "https://localhost:8080/",
          "height": 293
        },
        "id": "ahbLkdVLtL0F",
        "outputId": "d6fee69f-48db-4a0b-bfb2-386d8bba599e"
      },
      "execution_count": null,
      "outputs": [
        {
          "output_type": "execute_result",
          "data": {
            "text/plain": [
              "   id                                              title              author  \\\n",
              "0   0  House Dem Aide: We Didn’t Even See Comey’s Let...       Darrell Lucus   \n",
              "1   1  FLYNN: Hillary Clinton, Big Woman on Campus - ...     Daniel J. Flynn   \n",
              "2   2                  Why the Truth Might Get You Fired  Consortiumnews.com   \n",
              "3   3  15 Civilians Killed In Single US Airstrike Hav...     Jessica Purkiss   \n",
              "4   4  Iranian woman jailed for fictional unpublished...      Howard Portnoy   \n",
              "\n",
              "                                                text  label  \n",
              "0  House Dem Aide: We Didn’t Even See Comey’s Let...      1  \n",
              "1  Ever get the feeling your life circles the rou...      0  \n",
              "2  Why the Truth Might Get You Fired October 29, ...      1  \n",
              "3  Videos 15 Civilians Killed In Single US Airstr...      1  \n",
              "4  Print \\nAn Iranian woman has been sentenced to...      1  "
            ],
            "text/html": [
              "\n",
              "  <div id=\"df-505d57fa-03a6-472e-9dd9-1c0799a969fe\" class=\"colab-df-container\">\n",
              "    <div>\n",
              "<style scoped>\n",
              "    .dataframe tbody tr th:only-of-type {\n",
              "        vertical-align: middle;\n",
              "    }\n",
              "\n",
              "    .dataframe tbody tr th {\n",
              "        vertical-align: top;\n",
              "    }\n",
              "\n",
              "    .dataframe thead th {\n",
              "        text-align: right;\n",
              "    }\n",
              "</style>\n",
              "<table border=\"1\" class=\"dataframe\">\n",
              "  <thead>\n",
              "    <tr style=\"text-align: right;\">\n",
              "      <th></th>\n",
              "      <th>id</th>\n",
              "      <th>title</th>\n",
              "      <th>author</th>\n",
              "      <th>text</th>\n",
              "      <th>label</th>\n",
              "    </tr>\n",
              "  </thead>\n",
              "  <tbody>\n",
              "    <tr>\n",
              "      <th>0</th>\n",
              "      <td>0</td>\n",
              "      <td>House Dem Aide: We Didn’t Even See Comey’s Let...</td>\n",
              "      <td>Darrell Lucus</td>\n",
              "      <td>House Dem Aide: We Didn’t Even See Comey’s Let...</td>\n",
              "      <td>1</td>\n",
              "    </tr>\n",
              "    <tr>\n",
              "      <th>1</th>\n",
              "      <td>1</td>\n",
              "      <td>FLYNN: Hillary Clinton, Big Woman on Campus - ...</td>\n",
              "      <td>Daniel J. Flynn</td>\n",
              "      <td>Ever get the feeling your life circles the rou...</td>\n",
              "      <td>0</td>\n",
              "    </tr>\n",
              "    <tr>\n",
              "      <th>2</th>\n",
              "      <td>2</td>\n",
              "      <td>Why the Truth Might Get You Fired</td>\n",
              "      <td>Consortiumnews.com</td>\n",
              "      <td>Why the Truth Might Get You Fired October 29, ...</td>\n",
              "      <td>1</td>\n",
              "    </tr>\n",
              "    <tr>\n",
              "      <th>3</th>\n",
              "      <td>3</td>\n",
              "      <td>15 Civilians Killed In Single US Airstrike Hav...</td>\n",
              "      <td>Jessica Purkiss</td>\n",
              "      <td>Videos 15 Civilians Killed In Single US Airstr...</td>\n",
              "      <td>1</td>\n",
              "    </tr>\n",
              "    <tr>\n",
              "      <th>4</th>\n",
              "      <td>4</td>\n",
              "      <td>Iranian woman jailed for fictional unpublished...</td>\n",
              "      <td>Howard Portnoy</td>\n",
              "      <td>Print \\nAn Iranian woman has been sentenced to...</td>\n",
              "      <td>1</td>\n",
              "    </tr>\n",
              "  </tbody>\n",
              "</table>\n",
              "</div>\n",
              "    <div class=\"colab-df-buttons\">\n",
              "\n",
              "  <div class=\"colab-df-container\">\n",
              "    <button class=\"colab-df-convert\" onclick=\"convertToInteractive('df-505d57fa-03a6-472e-9dd9-1c0799a969fe')\"\n",
              "            title=\"Convert this dataframe to an interactive table.\"\n",
              "            style=\"display:none;\">\n",
              "\n",
              "  <svg xmlns=\"http://www.w3.org/2000/svg\" height=\"24px\" viewBox=\"0 -960 960 960\">\n",
              "    <path d=\"M120-120v-720h720v720H120Zm60-500h600v-160H180v160Zm220 220h160v-160H400v160Zm0 220h160v-160H400v160ZM180-400h160v-160H180v160Zm440 0h160v-160H620v160ZM180-180h160v-160H180v160Zm440 0h160v-160H620v160Z\"/>\n",
              "  </svg>\n",
              "    </button>\n",
              "\n",
              "  <style>\n",
              "    .colab-df-container {\n",
              "      display:flex;\n",
              "      gap: 12px;\n",
              "    }\n",
              "\n",
              "    .colab-df-convert {\n",
              "      background-color: #E8F0FE;\n",
              "      border: none;\n",
              "      border-radius: 50%;\n",
              "      cursor: pointer;\n",
              "      display: none;\n",
              "      fill: #1967D2;\n",
              "      height: 32px;\n",
              "      padding: 0 0 0 0;\n",
              "      width: 32px;\n",
              "    }\n",
              "\n",
              "    .colab-df-convert:hover {\n",
              "      background-color: #E2EBFA;\n",
              "      box-shadow: 0px 1px 2px rgba(60, 64, 67, 0.3), 0px 1px 3px 1px rgba(60, 64, 67, 0.15);\n",
              "      fill: #174EA6;\n",
              "    }\n",
              "\n",
              "    .colab-df-buttons div {\n",
              "      margin-bottom: 4px;\n",
              "    }\n",
              "\n",
              "    [theme=dark] .colab-df-convert {\n",
              "      background-color: #3B4455;\n",
              "      fill: #D2E3FC;\n",
              "    }\n",
              "\n",
              "    [theme=dark] .colab-df-convert:hover {\n",
              "      background-color: #434B5C;\n",
              "      box-shadow: 0px 1px 3px 1px rgba(0, 0, 0, 0.15);\n",
              "      filter: drop-shadow(0px 1px 2px rgba(0, 0, 0, 0.3));\n",
              "      fill: #FFFFFF;\n",
              "    }\n",
              "  </style>\n",
              "\n",
              "    <script>\n",
              "      const buttonEl =\n",
              "        document.querySelector('#df-505d57fa-03a6-472e-9dd9-1c0799a969fe button.colab-df-convert');\n",
              "      buttonEl.style.display =\n",
              "        google.colab.kernel.accessAllowed ? 'block' : 'none';\n",
              "\n",
              "      async function convertToInteractive(key) {\n",
              "        const element = document.querySelector('#df-505d57fa-03a6-472e-9dd9-1c0799a969fe');\n",
              "        const dataTable =\n",
              "          await google.colab.kernel.invokeFunction('convertToInteractive',\n",
              "                                                    [key], {});\n",
              "        if (!dataTable) return;\n",
              "\n",
              "        const docLinkHtml = 'Like what you see? Visit the ' +\n",
              "          '<a target=\"_blank\" href=https://colab.research.google.com/notebooks/data_table.ipynb>data table notebook</a>'\n",
              "          + ' to learn more about interactive tables.';\n",
              "        element.innerHTML = '';\n",
              "        dataTable['output_type'] = 'display_data';\n",
              "        await google.colab.output.renderOutput(dataTable, element);\n",
              "        const docLink = document.createElement('div');\n",
              "        docLink.innerHTML = docLinkHtml;\n",
              "        element.appendChild(docLink);\n",
              "      }\n",
              "    </script>\n",
              "  </div>\n",
              "\n",
              "\n",
              "<div id=\"df-f6be2c4a-6d0c-4a74-8580-61d29541c907\">\n",
              "  <button class=\"colab-df-quickchart\" onclick=\"quickchart('df-f6be2c4a-6d0c-4a74-8580-61d29541c907')\"\n",
              "            title=\"Suggest charts\"\n",
              "            style=\"display:none;\">\n",
              "\n",
              "<svg xmlns=\"http://www.w3.org/2000/svg\" height=\"24px\"viewBox=\"0 0 24 24\"\n",
              "     width=\"24px\">\n",
              "    <g>\n",
              "        <path d=\"M19 3H5c-1.1 0-2 .9-2 2v14c0 1.1.9 2 2 2h14c1.1 0 2-.9 2-2V5c0-1.1-.9-2-2-2zM9 17H7v-7h2v7zm4 0h-2V7h2v10zm4 0h-2v-4h2v4z\"/>\n",
              "    </g>\n",
              "</svg>\n",
              "  </button>\n",
              "\n",
              "<style>\n",
              "  .colab-df-quickchart {\n",
              "      --bg-color: #E8F0FE;\n",
              "      --fill-color: #1967D2;\n",
              "      --hover-bg-color: #E2EBFA;\n",
              "      --hover-fill-color: #174EA6;\n",
              "      --disabled-fill-color: #AAA;\n",
              "      --disabled-bg-color: #DDD;\n",
              "  }\n",
              "\n",
              "  [theme=dark] .colab-df-quickchart {\n",
              "      --bg-color: #3B4455;\n",
              "      --fill-color: #D2E3FC;\n",
              "      --hover-bg-color: #434B5C;\n",
              "      --hover-fill-color: #FFFFFF;\n",
              "      --disabled-bg-color: #3B4455;\n",
              "      --disabled-fill-color: #666;\n",
              "  }\n",
              "\n",
              "  .colab-df-quickchart {\n",
              "    background-color: var(--bg-color);\n",
              "    border: none;\n",
              "    border-radius: 50%;\n",
              "    cursor: pointer;\n",
              "    display: none;\n",
              "    fill: var(--fill-color);\n",
              "    height: 32px;\n",
              "    padding: 0;\n",
              "    width: 32px;\n",
              "  }\n",
              "\n",
              "  .colab-df-quickchart:hover {\n",
              "    background-color: var(--hover-bg-color);\n",
              "    box-shadow: 0 1px 2px rgba(60, 64, 67, 0.3), 0 1px 3px 1px rgba(60, 64, 67, 0.15);\n",
              "    fill: var(--button-hover-fill-color);\n",
              "  }\n",
              "\n",
              "  .colab-df-quickchart-complete:disabled,\n",
              "  .colab-df-quickchart-complete:disabled:hover {\n",
              "    background-color: var(--disabled-bg-color);\n",
              "    fill: var(--disabled-fill-color);\n",
              "    box-shadow: none;\n",
              "  }\n",
              "\n",
              "  .colab-df-spinner {\n",
              "    border: 2px solid var(--fill-color);\n",
              "    border-color: transparent;\n",
              "    border-bottom-color: var(--fill-color);\n",
              "    animation:\n",
              "      spin 1s steps(1) infinite;\n",
              "  }\n",
              "\n",
              "  @keyframes spin {\n",
              "    0% {\n",
              "      border-color: transparent;\n",
              "      border-bottom-color: var(--fill-color);\n",
              "      border-left-color: var(--fill-color);\n",
              "    }\n",
              "    20% {\n",
              "      border-color: transparent;\n",
              "      border-left-color: var(--fill-color);\n",
              "      border-top-color: var(--fill-color);\n",
              "    }\n",
              "    30% {\n",
              "      border-color: transparent;\n",
              "      border-left-color: var(--fill-color);\n",
              "      border-top-color: var(--fill-color);\n",
              "      border-right-color: var(--fill-color);\n",
              "    }\n",
              "    40% {\n",
              "      border-color: transparent;\n",
              "      border-right-color: var(--fill-color);\n",
              "      border-top-color: var(--fill-color);\n",
              "    }\n",
              "    60% {\n",
              "      border-color: transparent;\n",
              "      border-right-color: var(--fill-color);\n",
              "    }\n",
              "    80% {\n",
              "      border-color: transparent;\n",
              "      border-right-color: var(--fill-color);\n",
              "      border-bottom-color: var(--fill-color);\n",
              "    }\n",
              "    90% {\n",
              "      border-color: transparent;\n",
              "      border-bottom-color: var(--fill-color);\n",
              "    }\n",
              "  }\n",
              "</style>\n",
              "\n",
              "  <script>\n",
              "    async function quickchart(key) {\n",
              "      const quickchartButtonEl =\n",
              "        document.querySelector('#' + key + ' button');\n",
              "      quickchartButtonEl.disabled = true;  // To prevent multiple clicks.\n",
              "      quickchartButtonEl.classList.add('colab-df-spinner');\n",
              "      try {\n",
              "        const charts = await google.colab.kernel.invokeFunction(\n",
              "            'suggestCharts', [key], {});\n",
              "      } catch (error) {\n",
              "        console.error('Error during call to suggestCharts:', error);\n",
              "      }\n",
              "      quickchartButtonEl.classList.remove('colab-df-spinner');\n",
              "      quickchartButtonEl.classList.add('colab-df-quickchart-complete');\n",
              "    }\n",
              "    (() => {\n",
              "      let quickchartButtonEl =\n",
              "        document.querySelector('#df-f6be2c4a-6d0c-4a74-8580-61d29541c907 button');\n",
              "      quickchartButtonEl.style.display =\n",
              "        google.colab.kernel.accessAllowed ? 'block' : 'none';\n",
              "    })();\n",
              "  </script>\n",
              "</div>\n",
              "\n",
              "    </div>\n",
              "  </div>\n"
            ],
            "application/vnd.google.colaboratory.intrinsic+json": {
              "type": "dataframe",
              "variable_name": "news_dataset",
              "summary": "{\n  \"name\": \"news_dataset\",\n  \"rows\": 20800,\n  \"fields\": [\n    {\n      \"column\": \"id\",\n      \"properties\": {\n        \"dtype\": \"number\",\n        \"std\": 6004,\n        \"min\": 0,\n        \"max\": 20799,\n        \"num_unique_values\": 20800,\n        \"samples\": [\n          14649,\n          9231,\n          6473\n        ],\n        \"semantic_type\": \"\",\n        \"description\": \"\"\n      }\n    },\n    {\n      \"column\": \"title\",\n      \"properties\": {\n        \"dtype\": \"string\",\n        \"num_unique_values\": 19803,\n        \"samples\": [\n          \"Florida Republicans Voting for Hillary Clinton \\u00b7 Guardian Liberty Voice\",\n          \"\\u2018Weekend Warriors\\u2019 Show Survival Benefits - The New York Times\",\n          \"Part 6, Democratic Network Money: Commons Money that Works for Us, Instead of Us Working for It\"\n        ],\n        \"semantic_type\": \"\",\n        \"description\": \"\"\n      }\n    },\n    {\n      \"column\": \"author\",\n      \"properties\": {\n        \"dtype\": \"category\",\n        \"num_unique_values\": 4201,\n        \"samples\": [\n          \"AARGH63\",\n          \"Dave Kehr\",\n          \"Patrick Healy\"\n        ],\n        \"semantic_type\": \"\",\n        \"description\": \"\"\n      }\n    },\n    {\n      \"column\": \"text\",\n      \"properties\": {\n        \"dtype\": \"string\",\n        \"num_unique_values\": 20386,\n        \"samples\": [\n          \"Multan a un ultrasur por lanzar a un jugador del Bar\\u00e7a al campo durante el partido Madrid-Legia EL PARTIDO SE CONSIDERABA DE ALTO RIESGO PARA LOS JUGADORES DEL BARCELONA Real Madrid \\nUn jugador barcelonista golpe\\u00f3 a varios jugadores durante el encuentro de la Champions que tuvo lugar ayer entre el Real Madrid y el Legia Varsovia despu\\u00e9s de ser arrojado desde la grada por un hincha madridista. \\nEl portero del Legia, muy molesto, intent\\u00f3 devolver el jugador a las gradas de una patada y se encar\\u00f3 con los Ultrasur, que ya preparaban a otro jugador para echarlo al campo y entorpecer el encuentro. En esta ocasi\\u00f3n pretend\\u00edan prenderlo con un mechero antes de lanzarlo al c\\u00e9sped. \\nLas autoridades han vuelto a pedir a los aficionados que dejen de lanzar cosas al campo como botellas, monedas y jugadores del Barcelona. El dispositivo de seguridad no puedo hacer nada por evitar que algunos hinchas introdujeran a jugadores barcelonistas a la grada, pues los llevaban camuflados dentro de bocadillos de gran tama\\u00f1o. \\nEl partido pudo ser reanudado cuando el \\u00e1rbitro apart\\u00f3 a un rinc\\u00f3n del c\\u00e9sped al jugador barcelonista.\",\n          \"Written by Jacob G. Hornberger   As US officials continue to accuse Russia of meddling with the US presidential election, an accusation that they have provided no evidence whatsoever to support, let\\u2019s review some of the US government\\u2019s history of meddling with elections in others countries.1. In 1951, the democratically elected parliament of Iran elected a man named Mohammad Mossadegh to be Iran\\u2019s prime minister. Mossadegh angered British Empire officials by nationalizing British oil interests in the country.British officials then turned to the CIA for assistance. In 1953, the CIA secretly fomented a violent coup in Iran, which succeeded in ousting Mossadegh from power and making the Shah of Iran the supreme unelected dictator of the country.To fortify the Shah\\u2019s dictatorial hold on power, the CIA helped organize and train the his domestic police force, the Savak, which was essentially a combination of the CIA, the NSA, and the military. Part of the CIA\\u2019s training involved teaching Savak agents the art of torture.For the next 26 years, the Iranian people suffered under one of the most brutal and tyrannical dictatorships in the world, one that US officials fully supported and called an ally and friend of the United States.In 1979, Iranians successfully revolted against the Shah\\u2019s regime and ousted him from power. One result was not a restoration of the democratic system that had elected Mossadegh but rather another brutal dictatorship, this time a religious one. Another result is the bad relations between the Iran and US governments that continues to exist today.2. In 1951, the Guatemalan people democratically elected a man named Jacobo Arbenz to be their president. Arbenz, however, was not satisfactory to US officials, especially the national-security branch of the government, specifically the Pentagon and the CIA. The reason that US officials opposed Arbenz was that he was a socialist, and US officials considered a socialist president of Guatemala to be a threat to \\u201cnational security\\u201d here in the United States.In 1954 \\u2014 one year after the coup in Iran, the CIA fomented a violent military coup that succeeded in removing Arbenz from power and replacing him with one of the most brutal unelected military dictators in Latin American history, a man named Carlos Castillo Armas. The CIA had a kill list prepared for the coup, which Arbenz was able to escape by fleeing the country before Castillo was able to get him. The CIA\\u2019s destruction of Guatemala\\u2019s democratic system threw the nation into a 30-year civil war that ended up killing millions of Guatemalan people, especially many of the poor.3. In 1960 a man named Patrice Lamumba was elected Congo\\u2019s first prime minister after independence from Belgium. Lamumba spoke out against Western imperialism and refused to take sides in the Cold War, which caused the CIA to conclude that he was a threat to \\u201cnational security.\\u201d The CIA orchestrated the assassination of Lamumba, which ended up taking place on January 17, 1961, just three days before President Kennedy, who liked Lamumba and who would have ordered the CIA to stand down, was to be sworn into office.4. In 1970 a man named Salvador Allende received a plurality of votes in the presidential election in Chile. Pursuant to the Chilean constitution, the election was thrown into the national congress. President Richard Nixon, his national-security team, the Pentagon, and the CIA concluded that because Allende believed in communism and socialism, he posed a grave threat to \\u201cnational security\\u201d here in the United States. The CIA attempted to bribe members of the congress to vote against Allende. It also orchestrated the kidnapping of the head of Chile\\u2019s armed forces, Gen Rene Schneider, who opposed a US military coup in his country, especially since a coup would violate the country\\u2019s constitution. The kidnapping attempt on Schneider left him dead.The CIA then fomented a coup that took place on 9/11 1973 that violently ousted Allende from power and left him dead. Replacing him was army Gen. Augusto Pinochet, one of the most brutal unelected military dictators in history. By the time Pinochet\\u2019s 17-year reign of military terror came to an end in 1990, he and his CIA-supported goons had incarcerated, raped, tortured, or killed tens of thousands of innocent people \\u2014 that is, people whose only \\u201ccrime\\u201d was believing in socialism \\u2014 with the full support of the CIA, Pentagon, Nixon, and his \\u201cnational security\\u201d team.Of course, there are also the more recent support of regime-change operations that ousted democratically elected presidents that the US government disapproved of, such as in Ukraine and Egypt.And then there is the long list of countries where unelected dictators were targeted for regime change by the US national security state and, where successful, replaced with a brutal unelected pro-US dictator. Cuba, Indonesia, Iraq, Libya, and Syria all come to mind.US officials need to keep in mind that when they point their accusatory index finger at Russia for supposedly meddling in the US presidential election, US officials have, at the same time, three fingers pointing back at themselves. Reprinted with permission from the Future of Freedom Foundation . Related\",\n          \"When hearing of an establishment called the Black and Blue Steakhouse, one could reasonably surmise that some, or at the very least one, extremely tough person could be found somewhere in there. Well, the three terrorists who attacked London Bridge over the weekend found the Black and Blue Steakhouse, and they found the toughest man in the house. [Or, maybe more to the point, he found them.  Roy Larner, 47, is a huge fan of the South East London soccer team Millwall F. C. The team is known as the Lions, and when   terrorists entered the Black and Blue to kill innocent people, Larner let them know who is the true king of the jungle. After the terrorists entered, with obvious bad intentions, Larner sprang into action: \\u201cLike an idiot I shouted back at them. I thought, \\u2018I need to take the p*** out of these b*****s.\\u2019 \\u201cI took a few steps towards them and said, \\u2018F*** you, I\\u2019m Millwall.\\u2019 So they started attacking me. \\u201cI stood in front of them trying to fight them off. Everyone else ran to the back. I was on my own against all three of them, that\\u2019s why I got hurt so much. It was just me, trying to grab them with my bare hands and hold on. I was swinging. \\u201cI got stabbed and sliced eight times. They got me in my head, chest and both hands. There was blood everywhere. \\u201cThey were saying, \\u2018Islam, Islam!\\u2019 I said again, \\u2018F*** you, I\\u2019m Millwall!\\u2019 \\u201cIt was the worst thing I could have done as they carried on attacking me. \\u201cLuckily, none of the blows were straight at me or I\\u2019d be dead. \\u201d A petition has begun, with the aim of awarding Larner with the George Cross for bravery. The award is the second highest commendation granted by Great Britain. Looking at his scars, it\\u2019s really hard to imagine that he won\\u2019t get it. If Millwall is looking for a new slogan, they may have found it. \\u201cF*** you, I\\u2019m Millwall!\\u201d has a nice ring to it. Follow Dylan Gwinn on Twitter: @themightygwinn\"\n        ],\n        \"semantic_type\": \"\",\n        \"description\": \"\"\n      }\n    },\n    {\n      \"column\": \"label\",\n      \"properties\": {\n        \"dtype\": \"number\",\n        \"std\": 0,\n        \"min\": 0,\n        \"max\": 1,\n        \"num_unique_values\": 2,\n        \"samples\": [\n          0,\n          1\n        ],\n        \"semantic_type\": \"\",\n        \"description\": \"\"\n      }\n    }\n  ]\n}"
            }
          },
          "metadata": {},
          "execution_count": 7
        }
      ]
    },
    {
      "cell_type": "code",
      "source": [
        "# counting the number of missing values in the dataset\n",
        "news_dataset.isnull().sum()"
      ],
      "metadata": {
        "colab": {
          "base_uri": "https://localhost:8080/",
          "height": 241
        },
        "id": "72thUOXdtY_i",
        "outputId": "404a938a-ebd4-4873-e6d5-d151ddbd51ba"
      },
      "execution_count": null,
      "outputs": [
        {
          "output_type": "execute_result",
          "data": {
            "text/plain": [
              "id           0\n",
              "title      558\n",
              "author    1957\n",
              "text        39\n",
              "label        0\n",
              "dtype: int64"
            ],
            "text/html": [
              "<div>\n",
              "<style scoped>\n",
              "    .dataframe tbody tr th:only-of-type {\n",
              "        vertical-align: middle;\n",
              "    }\n",
              "\n",
              "    .dataframe tbody tr th {\n",
              "        vertical-align: top;\n",
              "    }\n",
              "\n",
              "    .dataframe thead th {\n",
              "        text-align: right;\n",
              "    }\n",
              "</style>\n",
              "<table border=\"1\" class=\"dataframe\">\n",
              "  <thead>\n",
              "    <tr style=\"text-align: right;\">\n",
              "      <th></th>\n",
              "      <th>0</th>\n",
              "    </tr>\n",
              "  </thead>\n",
              "  <tbody>\n",
              "    <tr>\n",
              "      <th>id</th>\n",
              "      <td>0</td>\n",
              "    </tr>\n",
              "    <tr>\n",
              "      <th>title</th>\n",
              "      <td>558</td>\n",
              "    </tr>\n",
              "    <tr>\n",
              "      <th>author</th>\n",
              "      <td>1957</td>\n",
              "    </tr>\n",
              "    <tr>\n",
              "      <th>text</th>\n",
              "      <td>39</td>\n",
              "    </tr>\n",
              "    <tr>\n",
              "      <th>label</th>\n",
              "      <td>0</td>\n",
              "    </tr>\n",
              "  </tbody>\n",
              "</table>\n",
              "</div><br><label><b>dtype:</b> int64</label>"
            ]
          },
          "metadata": {},
          "execution_count": 8
        }
      ]
    },
    {
      "cell_type": "code",
      "source": [
        "# replacing the null values with empty string\n",
        "news_dataset = news_dataset.fillna('')"
      ],
      "metadata": {
        "id": "1H0cEhNKunI5"
      },
      "execution_count": null,
      "outputs": []
    },
    {
      "cell_type": "code",
      "source": [
        "# merging the author name and news title\n",
        "news_dataset['content'] = news_dataset['author']+' '+news_dataset['title']"
      ],
      "metadata": {
        "id": "sl77Et5WvOdX"
      },
      "execution_count": null,
      "outputs": []
    },
    {
      "cell_type": "code",
      "source": [
        "print(news_dataset['content'])"
      ],
      "metadata": {
        "colab": {
          "base_uri": "https://localhost:8080/"
        },
        "id": "sW_wEth5v2Gl",
        "outputId": "4bfaecd3-6d0b-406d-dc49-7702b8c32e85"
      },
      "execution_count": null,
      "outputs": [
        {
          "output_type": "stream",
          "name": "stdout",
          "text": [
            "0        Darrell Lucus House Dem Aide: We Didn’t Even S...\n",
            "1        Daniel J. Flynn FLYNN: Hillary Clinton, Big Wo...\n",
            "2        Consortiumnews.com Why the Truth Might Get You...\n",
            "3        Jessica Purkiss 15 Civilians Killed In Single ...\n",
            "4        Howard Portnoy Iranian woman jailed for fictio...\n",
            "                               ...                        \n",
            "20795    Jerome Hudson Rapper T.I.: Trump a ’Poster Chi...\n",
            "20796    Benjamin Hoffman N.F.L. Playoffs: Schedule, Ma...\n",
            "20797    Michael J. de la Merced and Rachel Abrams Macy...\n",
            "20798    Alex Ansary NATO, Russia To Hold Parallel Exer...\n",
            "20799              David Swanson What Keeps the F-35 Alive\n",
            "Name: content, Length: 20800, dtype: object\n"
          ]
        }
      ]
    },
    {
      "cell_type": "code",
      "source": [
        "# separating the data & label\n",
        "X = news_dataset.drop(columns='label', axis=1)\n",
        "Y = news_dataset['label']"
      ],
      "metadata": {
        "id": "cl0tS3bqsjNI"
      },
      "execution_count": null,
      "outputs": []
    },
    {
      "cell_type": "code",
      "source": [
        "print(X)\n",
        "print(Y)"
      ],
      "metadata": {
        "id": "wQHQjtZ7v_RN",
        "colab": {
          "base_uri": "https://localhost:8080/"
        },
        "outputId": "098103bd-b96b-479b-8702-e3591c3cc6d7"
      },
      "execution_count": null,
      "outputs": [
        {
          "output_type": "stream",
          "name": "stdout",
          "text": [
            "          id                                              title  \\\n",
            "0          0  House Dem Aide: We Didn’t Even See Comey’s Let...   \n",
            "1          1  FLYNN: Hillary Clinton, Big Woman on Campus - ...   \n",
            "2          2                  Why the Truth Might Get You Fired   \n",
            "3          3  15 Civilians Killed In Single US Airstrike Hav...   \n",
            "4          4  Iranian woman jailed for fictional unpublished...   \n",
            "...      ...                                                ...   \n",
            "20795  20795  Rapper T.I.: Trump a ’Poster Child For White S...   \n",
            "20796  20796  N.F.L. Playoffs: Schedule, Matchups and Odds -...   \n",
            "20797  20797  Macy’s Is Said to Receive Takeover Approach by...   \n",
            "20798  20798  NATO, Russia To Hold Parallel Exercises In Bal...   \n",
            "20799  20799                          What Keeps the F-35 Alive   \n",
            "\n",
            "                                          author  \\\n",
            "0                                  Darrell Lucus   \n",
            "1                                Daniel J. Flynn   \n",
            "2                             Consortiumnews.com   \n",
            "3                                Jessica Purkiss   \n",
            "4                                 Howard Portnoy   \n",
            "...                                          ...   \n",
            "20795                              Jerome Hudson   \n",
            "20796                           Benjamin Hoffman   \n",
            "20797  Michael J. de la Merced and Rachel Abrams   \n",
            "20798                                Alex Ansary   \n",
            "20799                              David Swanson   \n",
            "\n",
            "                                                    text  \\\n",
            "0      House Dem Aide: We Didn’t Even See Comey’s Let...   \n",
            "1      Ever get the feeling your life circles the rou...   \n",
            "2      Why the Truth Might Get You Fired October 29, ...   \n",
            "3      Videos 15 Civilians Killed In Single US Airstr...   \n",
            "4      Print \\nAn Iranian woman has been sentenced to...   \n",
            "...                                                  ...   \n",
            "20795  Rapper T. I. unloaded on black celebrities who...   \n",
            "20796  When the Green Bay Packers lost to the Washing...   \n",
            "20797  The Macy’s of today grew from the union of sev...   \n",
            "20798  NATO, Russia To Hold Parallel Exercises In Bal...   \n",
            "20799    David Swanson is an author, activist, journa...   \n",
            "\n",
            "                                                 content  \n",
            "0      Darrell Lucus House Dem Aide: We Didn’t Even S...  \n",
            "1      Daniel J. Flynn FLYNN: Hillary Clinton, Big Wo...  \n",
            "2      Consortiumnews.com Why the Truth Might Get You...  \n",
            "3      Jessica Purkiss 15 Civilians Killed In Single ...  \n",
            "4      Howard Portnoy Iranian woman jailed for fictio...  \n",
            "...                                                  ...  \n",
            "20795  Jerome Hudson Rapper T.I.: Trump a ’Poster Chi...  \n",
            "20796  Benjamin Hoffman N.F.L. Playoffs: Schedule, Ma...  \n",
            "20797  Michael J. de la Merced and Rachel Abrams Macy...  \n",
            "20798  Alex Ansary NATO, Russia To Hold Parallel Exer...  \n",
            "20799            David Swanson What Keeps the F-35 Alive  \n",
            "\n",
            "[20800 rows x 5 columns]\n",
            "0        1\n",
            "1        0\n",
            "2        1\n",
            "3        1\n",
            "4        1\n",
            "        ..\n",
            "20795    0\n",
            "20796    0\n",
            "20797    0\n",
            "20798    1\n",
            "20799    1\n",
            "Name: label, Length: 20800, dtype: int64\n"
          ]
        }
      ]
    },
    {
      "cell_type": "markdown",
      "source": [
        "Steming:\n",
        "\n",
        "Steming is the process of reducing a word to its root word\n",
        "\n",
        "example:\n",
        "actor, actress, acting --> act\n"
      ],
      "metadata": {
        "id": "5Lz5KISRtskk"
      }
    },
    {
      "cell_type": "code",
      "source": [
        "port_stem = PorterStemmer()"
      ],
      "metadata": {
        "id": "UnOI07NxtH-r"
      },
      "execution_count": null,
      "outputs": []
    },
    {
      "cell_type": "code",
      "source": [
        "def stemming(content):\n",
        "    stemmed_content = re.sub('[^a-zA-Z]',' ',content)\n",
        "    stemmed_content = stemmed_content.lower()\n",
        "    stemmed_content = stemmed_content.split()\n",
        "    stemmed_content = [port_stem.stem(word) for word in stemmed_content if not word in stopwords.words('english')]\n",
        "    stemmed_content = ' '.join(stemmed_content)\n",
        "    return stemmed_content\n"
      ],
      "metadata": {
        "id": "qVmE3cJ7udbf"
      },
      "execution_count": null,
      "outputs": []
    },
    {
      "cell_type": "code",
      "source": [
        "news_dataset['content'] = news_dataset['content'].apply(stemming)"
      ],
      "metadata": {
        "id": "Qaq-A01Sxp4E"
      },
      "execution_count": null,
      "outputs": []
    },
    {
      "cell_type": "code",
      "source": [
        "print(news_dataset['content'])"
      ],
      "metadata": {
        "colab": {
          "base_uri": "https://localhost:8080/"
        },
        "id": "tF3P8YJDyaYq",
        "outputId": "dbfb8b9a-9b67-494a-d055-6672bfb7381f"
      },
      "execution_count": null,
      "outputs": [
        {
          "output_type": "stream",
          "name": "stdout",
          "text": [
            "0        darrel lucu hous dem aid even see comey letter...\n",
            "1        daniel j flynn flynn hillari clinton big woman...\n",
            "2                   consortiumnew com truth might get fire\n",
            "3        jessica purkiss civilian kill singl us airstri...\n",
            "4        howard portnoy iranian woman jail fiction unpu...\n",
            "                               ...                        \n",
            "20795    jerom hudson rapper trump poster child white s...\n",
            "20796    benjamin hoffman n f l playoff schedul matchup...\n",
            "20797    michael j de la merc rachel abram maci said re...\n",
            "20798    alex ansari nato russia hold parallel exercis ...\n",
            "20799                            david swanson keep f aliv\n",
            "Name: content, Length: 20800, dtype: object\n"
          ]
        }
      ]
    },
    {
      "cell_type": "code",
      "source": [
        "# separate the data and label\n",
        "X = news_dataset['content'].values\n",
        "Y = news_dataset['label'].values"
      ],
      "metadata": {
        "id": "ajl3Qk_nyLdD"
      },
      "execution_count": null,
      "outputs": []
    },
    {
      "cell_type": "code",
      "source": [
        "print(X)"
      ],
      "metadata": {
        "colab": {
          "base_uri": "https://localhost:8080/"
        },
        "id": "jdfkL9o1zH7H",
        "outputId": "117ba80c-ba89-4986-bd70-61ea0bef4f61"
      },
      "execution_count": null,
      "outputs": [
        {
          "output_type": "stream",
          "name": "stdout",
          "text": [
            "['darrel lucu hous dem aid even see comey letter jason chaffetz tweet'\n",
            " 'daniel j flynn flynn hillari clinton big woman campu breitbart'\n",
            " 'consortiumnew com truth might get fire' ...\n",
            " 'michael j de la merc rachel abram maci said receiv takeov approach hudson bay new york time'\n",
            " 'alex ansari nato russia hold parallel exercis balkan'\n",
            " 'david swanson keep f aliv']\n"
          ]
        }
      ]
    },
    {
      "cell_type": "code",
      "source": [
        "print(Y)"
      ],
      "metadata": {
        "colab": {
          "base_uri": "https://localhost:8080/"
        },
        "id": "1UfH3bxMzJdc",
        "outputId": "d42dc3ea-8747-4a4a-a6b7-42ea70164b14"
      },
      "execution_count": null,
      "outputs": [
        {
          "output_type": "stream",
          "name": "stdout",
          "text": [
            "[1 0 1 ... 0 1 1]\n"
          ]
        }
      ]
    },
    {
      "cell_type": "code",
      "source": [
        "Y.shape"
      ],
      "metadata": {
        "colab": {
          "base_uri": "https://localhost:8080/"
        },
        "id": "w-jeffRgzSiP",
        "outputId": "b2eb635a-4441-4780-e47c-22b9545878a1"
      },
      "execution_count": null,
      "outputs": [
        {
          "output_type": "execute_result",
          "data": {
            "text/plain": [
              "(20800,)"
            ]
          },
          "metadata": {},
          "execution_count": 21
        }
      ]
    },
    {
      "cell_type": "code",
      "source": [
        "# converting the textual data to numericak data\n",
        "\n",
        "vectorizer = TfidfVectorizer()  # Tf stands for term frequency, id stands for inverse documentary frequency\n",
        "vectorizer.fit(X)\n",
        "\n",
        "X = vectorizer.transform(X)"
      ],
      "metadata": {
        "id": "BqlWTuYHzntM"
      },
      "execution_count": null,
      "outputs": []
    },
    {
      "cell_type": "code",
      "source": [
        "print(X)"
      ],
      "metadata": {
        "colab": {
          "base_uri": "https://localhost:8080/"
        },
        "id": "GXKS3kf3ze6q",
        "outputId": "0e4c529f-80a4-45ac-9582-72b5142b12ae"
      },
      "execution_count": null,
      "outputs": [
        {
          "output_type": "stream",
          "name": "stdout",
          "text": [
            "  (0, 267)\t0.2701012497770876\n",
            "  (0, 2483)\t0.36765196867972083\n",
            "  (0, 2959)\t0.24684501285337127\n",
            "  (0, 3600)\t0.3598939188262558\n",
            "  (0, 3792)\t0.27053324808454915\n",
            "  (0, 4973)\t0.23331696690935097\n",
            "  (0, 7005)\t0.2187416908935914\n",
            "  (0, 7692)\t0.24785219520671598\n",
            "  (0, 8630)\t0.2921251408704368\n",
            "  (0, 8909)\t0.36359638063260746\n",
            "  (0, 13473)\t0.2565896679337956\n",
            "  (0, 15686)\t0.2848506356272864\n",
            "  (1, 1497)\t0.2939891562094648\n",
            "  (1, 1894)\t0.15521974226349364\n",
            "  (1, 2223)\t0.3827320386859759\n",
            "  (1, 2813)\t0.19094574062359204\n",
            "  (1, 3568)\t0.26373768806048464\n",
            "  (1, 5503)\t0.7143299355715573\n",
            "  (1, 6816)\t0.1904660198296849\n",
            "  (1, 16799)\t0.30071745655510157\n",
            "  (2, 2943)\t0.3179886800654691\n",
            "  (2, 3103)\t0.46097489583229645\n",
            "  (2, 5389)\t0.3866530551182615\n",
            "  (2, 5968)\t0.3474613386728292\n",
            "  (2, 9620)\t0.49351492943649944\n",
            "  :\t:\n",
            "  (20797, 3643)\t0.2115550061362374\n",
            "  (20797, 7042)\t0.21799048897828685\n",
            "  (20797, 8364)\t0.22322585870464115\n",
            "  (20797, 8988)\t0.36160868928090795\n",
            "  (20797, 9518)\t0.29542040034203126\n",
            "  (20797, 9588)\t0.17455348025522197\n",
            "  (20797, 10306)\t0.08038079000566466\n",
            "  (20797, 12138)\t0.24778257724396505\n",
            "  (20797, 12344)\t0.27263457663336677\n",
            "  (20797, 13122)\t0.24825263521976057\n",
            "  (20797, 14967)\t0.3115945315488075\n",
            "  (20797, 15295)\t0.08159261204402356\n",
            "  (20797, 16996)\t0.08315655906109998\n",
            "  (20798, 350)\t0.2844693781907258\n",
            "  (20798, 588)\t0.3112141524638974\n",
            "  (20798, 1125)\t0.4460515589182237\n",
            "  (20798, 5032)\t0.40837014502395297\n",
            "  (20798, 6889)\t0.3249628569429943\n",
            "  (20798, 10177)\t0.31924963701870285\n",
            "  (20798, 11052)\t0.4460515589182237\n",
            "  (20798, 13046)\t0.2236326748827061\n",
            "  (20799, 377)\t0.5677577267055112\n",
            "  (20799, 3623)\t0.37927626273066584\n",
            "  (20799, 8036)\t0.45983893273780013\n",
            "  (20799, 14852)\t0.5677577267055112\n"
          ]
        }
      ]
    },
    {
      "cell_type": "markdown",
      "source": [
        "Splitting the data into training and testing data"
      ],
      "metadata": {
        "id": "-o8XYr9R1Zq4"
      }
    },
    {
      "cell_type": "code",
      "source": [
        "X_train,X_test,Y_train,Y_test = train_test_split(X, Y, test_size = 0.2, stratify = Y, random_state = 2)"
      ],
      "metadata": {
        "id": "wCj8S5lS1E7C"
      },
      "execution_count": null,
      "outputs": []
    },
    {
      "cell_type": "markdown",
      "source": [
        "Training the model: Logistic Regression"
      ],
      "metadata": {
        "id": "0kbgQZYe3A1a"
      }
    },
    {
      "cell_type": "code",
      "source": [
        "model = LogisticRegression()"
      ],
      "metadata": {
        "id": "xHNHMHzw2hic"
      },
      "execution_count": null,
      "outputs": []
    },
    {
      "cell_type": "markdown",
      "source": [
        "![Logistic_Regression.png](data:image/png;base64,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)"
      ],
      "metadata": {
        "id": "w5SBvIgU3hFA"
      }
    },
    {
      "cell_type": "code",
      "source": [
        "model.fit(X_train, Y_train)"
      ],
      "metadata": {
        "colab": {
          "base_uri": "https://localhost:8080/",
          "height": 57
        },
        "id": "5tYmIVsI3PbL",
        "outputId": "8d340630-0545-4a0a-ddfe-494593cbf872"
      },
      "execution_count": null,
      "outputs": [
        {
          "output_type": "execute_result",
          "data": {
            "text/plain": [
              "LogisticRegression()"
            ],
            "text/html": [
              "<style>#sk-container-id-1 {\n",
              "  /* Definition of color scheme common for light and dark mode */\n",
              "  --sklearn-color-text: black;\n",
              "  --sklearn-color-line: gray;\n",
              "  /* Definition of color scheme for unfitted estimators */\n",
              "  --sklearn-color-unfitted-level-0: #fff5e6;\n",
              "  --sklearn-color-unfitted-level-1: #f6e4d2;\n",
              "  --sklearn-color-unfitted-level-2: #ffe0b3;\n",
              "  --sklearn-color-unfitted-level-3: chocolate;\n",
              "  /* Definition of color scheme for fitted estimators */\n",
              "  --sklearn-color-fitted-level-0: #f0f8ff;\n",
              "  --sklearn-color-fitted-level-1: #d4ebff;\n",
              "  --sklearn-color-fitted-level-2: #b3dbfd;\n",
              "  --sklearn-color-fitted-level-3: cornflowerblue;\n",
              "\n",
              "  /* Specific color for light theme */\n",
              "  --sklearn-color-text-on-default-background: var(--sg-text-color, var(--theme-code-foreground, var(--jp-content-font-color1, black)));\n",
              "  --sklearn-color-background: var(--sg-background-color, var(--theme-background, var(--jp-layout-color0, white)));\n",
              "  --sklearn-color-border-box: var(--sg-text-color, var(--theme-code-foreground, var(--jp-content-font-color1, black)));\n",
              "  --sklearn-color-icon: #696969;\n",
              "\n",
              "  @media (prefers-color-scheme: dark) {\n",
              "    /* Redefinition of color scheme for dark theme */\n",
              "    --sklearn-color-text-on-default-background: var(--sg-text-color, var(--theme-code-foreground, var(--jp-content-font-color1, white)));\n",
              "    --sklearn-color-background: var(--sg-background-color, var(--theme-background, var(--jp-layout-color0, #111)));\n",
              "    --sklearn-color-border-box: var(--sg-text-color, var(--theme-code-foreground, var(--jp-content-font-color1, white)));\n",
              "    --sklearn-color-icon: #878787;\n",
              "  }\n",
              "}\n",
              "\n",
              "#sk-container-id-1 {\n",
              "  color: var(--sklearn-color-text);\n",
              "}\n",
              "\n",
              "#sk-container-id-1 pre {\n",
              "  padding: 0;\n",
              "}\n",
              "\n",
              "#sk-container-id-1 input.sk-hidden--visually {\n",
              "  border: 0;\n",
              "  clip: rect(1px 1px 1px 1px);\n",
              "  clip: rect(1px, 1px, 1px, 1px);\n",
              "  height: 1px;\n",
              "  margin: -1px;\n",
              "  overflow: hidden;\n",
              "  padding: 0;\n",
              "  position: absolute;\n",
              "  width: 1px;\n",
              "}\n",
              "\n",
              "#sk-container-id-1 div.sk-dashed-wrapped {\n",
              "  border: 1px dashed var(--sklearn-color-line);\n",
              "  margin: 0 0.4em 0.5em 0.4em;\n",
              "  box-sizing: border-box;\n",
              "  padding-bottom: 0.4em;\n",
              "  background-color: var(--sklearn-color-background);\n",
              "}\n",
              "\n",
              "#sk-container-id-1 div.sk-container {\n",
              "  /* jupyter's `normalize.less` sets `[hidden] { display: none; }`\n",
              "     but bootstrap.min.css set `[hidden] { display: none !important; }`\n",
              "     so we also need the `!important` here to be able to override the\n",
              "     default hidden behavior on the sphinx rendered scikit-learn.org.\n",
              "     See: https://github.com/scikit-learn/scikit-learn/issues/21755 */\n",
              "  display: inline-block !important;\n",
              "  position: relative;\n",
              "}\n",
              "\n",
              "#sk-container-id-1 div.sk-text-repr-fallback {\n",
              "  display: none;\n",
              "}\n",
              "\n",
              "div.sk-parallel-item,\n",
              "div.sk-serial,\n",
              "div.sk-item {\n",
              "  /* draw centered vertical line to link estimators */\n",
              "  background-image: linear-gradient(var(--sklearn-color-text-on-default-background), var(--sklearn-color-text-on-default-background));\n",
              "  background-size: 2px 100%;\n",
              "  background-repeat: no-repeat;\n",
              "  background-position: center center;\n",
              "}\n",
              "\n",
              "/* Parallel-specific style estimator block */\n",
              "\n",
              "#sk-container-id-1 div.sk-parallel-item::after {\n",
              "  content: \"\";\n",
              "  width: 100%;\n",
              "  border-bottom: 2px solid var(--sklearn-color-text-on-default-background);\n",
              "  flex-grow: 1;\n",
              "}\n",
              "\n",
              "#sk-container-id-1 div.sk-parallel {\n",
              "  display: flex;\n",
              "  align-items: stretch;\n",
              "  justify-content: center;\n",
              "  background-color: var(--sklearn-color-background);\n",
              "  position: relative;\n",
              "}\n",
              "\n",
              "#sk-container-id-1 div.sk-parallel-item {\n",
              "  display: flex;\n",
              "  flex-direction: column;\n",
              "}\n",
              "\n",
              "#sk-container-id-1 div.sk-parallel-item:first-child::after {\n",
              "  align-self: flex-end;\n",
              "  width: 50%;\n",
              "}\n",
              "\n",
              "#sk-container-id-1 div.sk-parallel-item:last-child::after {\n",
              "  align-self: flex-start;\n",
              "  width: 50%;\n",
              "}\n",
              "\n",
              "#sk-container-id-1 div.sk-parallel-item:only-child::after {\n",
              "  width: 0;\n",
              "}\n",
              "\n",
              "/* Serial-specific style estimator block */\n",
              "\n",
              "#sk-container-id-1 div.sk-serial {\n",
              "  display: flex;\n",
              "  flex-direction: column;\n",
              "  align-items: center;\n",
              "  background-color: var(--sklearn-color-background);\n",
              "  padding-right: 1em;\n",
              "  padding-left: 1em;\n",
              "}\n",
              "\n",
              "\n",
              "/* Toggleable style: style used for estimator/Pipeline/ColumnTransformer box that is\n",
              "clickable and can be expanded/collapsed.\n",
              "- Pipeline and ColumnTransformer use this feature and define the default style\n",
              "- Estimators will overwrite some part of the style using the `sk-estimator` class\n",
              "*/\n",
              "\n",
              "/* Pipeline and ColumnTransformer style (default) */\n",
              "\n",
              "#sk-container-id-1 div.sk-toggleable {\n",
              "  /* Default theme specific background. It is overwritten whether we have a\n",
              "  specific estimator or a Pipeline/ColumnTransformer */\n",
              "  background-color: var(--sklearn-color-background);\n",
              "}\n",
              "\n",
              "/* Toggleable label */\n",
              "#sk-container-id-1 label.sk-toggleable__label {\n",
              "  cursor: pointer;\n",
              "  display: block;\n",
              "  width: 100%;\n",
              "  margin-bottom: 0;\n",
              "  padding: 0.5em;\n",
              "  box-sizing: border-box;\n",
              "  text-align: center;\n",
              "}\n",
              "\n",
              "#sk-container-id-1 label.sk-toggleable__label-arrow:before {\n",
              "  /* Arrow on the left of the label */\n",
              "  content: \"▸\";\n",
              "  float: left;\n",
              "  margin-right: 0.25em;\n",
              "  color: var(--sklearn-color-icon);\n",
              "}\n",
              "\n",
              "#sk-container-id-1 label.sk-toggleable__label-arrow:hover:before {\n",
              "  color: var(--sklearn-color-text);\n",
              "}\n",
              "\n",
              "/* Toggleable content - dropdown */\n",
              "\n",
              "#sk-container-id-1 div.sk-toggleable__content {\n",
              "  max-height: 0;\n",
              "  max-width: 0;\n",
              "  overflow: hidden;\n",
              "  text-align: left;\n",
              "  /* unfitted */\n",
              "  background-color: var(--sklearn-color-unfitted-level-0);\n",
              "}\n",
              "\n",
              "#sk-container-id-1 div.sk-toggleable__content.fitted {\n",
              "  /* fitted */\n",
              "  background-color: var(--sklearn-color-fitted-level-0);\n",
              "}\n",
              "\n",
              "#sk-container-id-1 div.sk-toggleable__content pre {\n",
              "  margin: 0.2em;\n",
              "  border-radius: 0.25em;\n",
              "  color: var(--sklearn-color-text);\n",
              "  /* unfitted */\n",
              "  background-color: var(--sklearn-color-unfitted-level-0);\n",
              "}\n",
              "\n",
              "#sk-container-id-1 div.sk-toggleable__content.fitted pre {\n",
              "  /* unfitted */\n",
              "  background-color: var(--sklearn-color-fitted-level-0);\n",
              "}\n",
              "\n",
              "#sk-container-id-1 input.sk-toggleable__control:checked~div.sk-toggleable__content {\n",
              "  /* Expand drop-down */\n",
              "  max-height: 200px;\n",
              "  max-width: 100%;\n",
              "  overflow: auto;\n",
              "}\n",
              "\n",
              "#sk-container-id-1 input.sk-toggleable__control:checked~label.sk-toggleable__label-arrow:before {\n",
              "  content: \"▾\";\n",
              "}\n",
              "\n",
              "/* Pipeline/ColumnTransformer-specific style */\n",
              "\n",
              "#sk-container-id-1 div.sk-label input.sk-toggleable__control:checked~label.sk-toggleable__label {\n",
              "  color: var(--sklearn-color-text);\n",
              "  background-color: var(--sklearn-color-unfitted-level-2);\n",
              "}\n",
              "\n",
              "#sk-container-id-1 div.sk-label.fitted input.sk-toggleable__control:checked~label.sk-toggleable__label {\n",
              "  background-color: var(--sklearn-color-fitted-level-2);\n",
              "}\n",
              "\n",
              "/* Estimator-specific style */\n",
              "\n",
              "/* Colorize estimator box */\n",
              "#sk-container-id-1 div.sk-estimator input.sk-toggleable__control:checked~label.sk-toggleable__label {\n",
              "  /* unfitted */\n",
              "  background-color: var(--sklearn-color-unfitted-level-2);\n",
              "}\n",
              "\n",
              "#sk-container-id-1 div.sk-estimator.fitted input.sk-toggleable__control:checked~label.sk-toggleable__label {\n",
              "  /* fitted */\n",
              "  background-color: var(--sklearn-color-fitted-level-2);\n",
              "}\n",
              "\n",
              "#sk-container-id-1 div.sk-label label.sk-toggleable__label,\n",
              "#sk-container-id-1 div.sk-label label {\n",
              "  /* The background is the default theme color */\n",
              "  color: var(--sklearn-color-text-on-default-background);\n",
              "}\n",
              "\n",
              "/* On hover, darken the color of the background */\n",
              "#sk-container-id-1 div.sk-label:hover label.sk-toggleable__label {\n",
              "  color: var(--sklearn-color-text);\n",
              "  background-color: var(--sklearn-color-unfitted-level-2);\n",
              "}\n",
              "\n",
              "/* Label box, darken color on hover, fitted */\n",
              "#sk-container-id-1 div.sk-label.fitted:hover label.sk-toggleable__label.fitted {\n",
              "  color: var(--sklearn-color-text);\n",
              "  background-color: var(--sklearn-color-fitted-level-2);\n",
              "}\n",
              "\n",
              "/* Estimator label */\n",
              "\n",
              "#sk-container-id-1 div.sk-label label {\n",
              "  font-family: monospace;\n",
              "  font-weight: bold;\n",
              "  display: inline-block;\n",
              "  line-height: 1.2em;\n",
              "}\n",
              "\n",
              "#sk-container-id-1 div.sk-label-container {\n",
              "  text-align: center;\n",
              "}\n",
              "\n",
              "/* Estimator-specific */\n",
              "#sk-container-id-1 div.sk-estimator {\n",
              "  font-family: monospace;\n",
              "  border: 1px dotted var(--sklearn-color-border-box);\n",
              "  border-radius: 0.25em;\n",
              "  box-sizing: border-box;\n",
              "  margin-bottom: 0.5em;\n",
              "  /* unfitted */\n",
              "  background-color: var(--sklearn-color-unfitted-level-0);\n",
              "}\n",
              "\n",
              "#sk-container-id-1 div.sk-estimator.fitted {\n",
              "  /* fitted */\n",
              "  background-color: var(--sklearn-color-fitted-level-0);\n",
              "}\n",
              "\n",
              "/* on hover */\n",
              "#sk-container-id-1 div.sk-estimator:hover {\n",
              "  /* unfitted */\n",
              "  background-color: var(--sklearn-color-unfitted-level-2);\n",
              "}\n",
              "\n",
              "#sk-container-id-1 div.sk-estimator.fitted:hover {\n",
              "  /* fitted */\n",
              "  background-color: var(--sklearn-color-fitted-level-2);\n",
              "}\n",
              "\n",
              "/* Specification for estimator info (e.g. \"i\" and \"?\") */\n",
              "\n",
              "/* Common style for \"i\" and \"?\" */\n",
              "\n",
              ".sk-estimator-doc-link,\n",
              "a:link.sk-estimator-doc-link,\n",
              "a:visited.sk-estimator-doc-link {\n",
              "  float: right;\n",
              "  font-size: smaller;\n",
              "  line-height: 1em;\n",
              "  font-family: monospace;\n",
              "  background-color: var(--sklearn-color-background);\n",
              "  border-radius: 1em;\n",
              "  height: 1em;\n",
              "  width: 1em;\n",
              "  text-decoration: none !important;\n",
              "  margin-left: 1ex;\n",
              "  /* unfitted */\n",
              "  border: var(--sklearn-color-unfitted-level-1) 1pt solid;\n",
              "  color: var(--sklearn-color-unfitted-level-1);\n",
              "}\n",
              "\n",
              ".sk-estimator-doc-link.fitted,\n",
              "a:link.sk-estimator-doc-link.fitted,\n",
              "a:visited.sk-estimator-doc-link.fitted {\n",
              "  /* fitted */\n",
              "  border: var(--sklearn-color-fitted-level-1) 1pt solid;\n",
              "  color: var(--sklearn-color-fitted-level-1);\n",
              "}\n",
              "\n",
              "/* On hover */\n",
              "div.sk-estimator:hover .sk-estimator-doc-link:hover,\n",
              ".sk-estimator-doc-link:hover,\n",
              "div.sk-label-container:hover .sk-estimator-doc-link:hover,\n",
              ".sk-estimator-doc-link:hover {\n",
              "  /* unfitted */\n",
              "  background-color: var(--sklearn-color-unfitted-level-3);\n",
              "  color: var(--sklearn-color-background);\n",
              "  text-decoration: none;\n",
              "}\n",
              "\n",
              "div.sk-estimator.fitted:hover .sk-estimator-doc-link.fitted:hover,\n",
              ".sk-estimator-doc-link.fitted:hover,\n",
              "div.sk-label-container:hover .sk-estimator-doc-link.fitted:hover,\n",
              ".sk-estimator-doc-link.fitted:hover {\n",
              "  /* fitted */\n",
              "  background-color: var(--sklearn-color-fitted-level-3);\n",
              "  color: var(--sklearn-color-background);\n",
              "  text-decoration: none;\n",
              "}\n",
              "\n",
              "/* Span, style for the box shown on hovering the info icon */\n",
              ".sk-estimator-doc-link span {\n",
              "  display: none;\n",
              "  z-index: 9999;\n",
              "  position: relative;\n",
              "  font-weight: normal;\n",
              "  right: .2ex;\n",
              "  padding: .5ex;\n",
              "  margin: .5ex;\n",
              "  width: min-content;\n",
              "  min-width: 20ex;\n",
              "  max-width: 50ex;\n",
              "  color: var(--sklearn-color-text);\n",
              "  box-shadow: 2pt 2pt 4pt #999;\n",
              "  /* unfitted */\n",
              "  background: var(--sklearn-color-unfitted-level-0);\n",
              "  border: .5pt solid var(--sklearn-color-unfitted-level-3);\n",
              "}\n",
              "\n",
              ".sk-estimator-doc-link.fitted span {\n",
              "  /* fitted */\n",
              "  background: var(--sklearn-color-fitted-level-0);\n",
              "  border: var(--sklearn-color-fitted-level-3);\n",
              "}\n",
              "\n",
              ".sk-estimator-doc-link:hover span {\n",
              "  display: block;\n",
              "}\n",
              "\n",
              "/* \"?\"-specific style due to the `<a>` HTML tag */\n",
              "\n",
              "#sk-container-id-1 a.estimator_doc_link {\n",
              "  float: right;\n",
              "  font-size: 1rem;\n",
              "  line-height: 1em;\n",
              "  font-family: monospace;\n",
              "  background-color: var(--sklearn-color-background);\n",
              "  border-radius: 1rem;\n",
              "  height: 1rem;\n",
              "  width: 1rem;\n",
              "  text-decoration: none;\n",
              "  /* unfitted */\n",
              "  color: var(--sklearn-color-unfitted-level-1);\n",
              "  border: var(--sklearn-color-unfitted-level-1) 1pt solid;\n",
              "}\n",
              "\n",
              "#sk-container-id-1 a.estimator_doc_link.fitted {\n",
              "  /* fitted */\n",
              "  border: var(--sklearn-color-fitted-level-1) 1pt solid;\n",
              "  color: var(--sklearn-color-fitted-level-1);\n",
              "}\n",
              "\n",
              "/* On hover */\n",
              "#sk-container-id-1 a.estimator_doc_link:hover {\n",
              "  /* unfitted */\n",
              "  background-color: var(--sklearn-color-unfitted-level-3);\n",
              "  color: var(--sklearn-color-background);\n",
              "  text-decoration: none;\n",
              "}\n",
              "\n",
              "#sk-container-id-1 a.estimator_doc_link.fitted:hover {\n",
              "  /* fitted */\n",
              "  background-color: var(--sklearn-color-fitted-level-3);\n",
              "}\n",
              "</style><div id=\"sk-container-id-1\" class=\"sk-top-container\"><div class=\"sk-text-repr-fallback\"><pre>LogisticRegression()</pre><b>In a Jupyter environment, please rerun this cell to show the HTML representation or trust the notebook. <br />On GitHub, the HTML representation is unable to render, please try loading this page with nbviewer.org.</b></div><div class=\"sk-container\" hidden><div class=\"sk-item\"><div class=\"sk-estimator fitted sk-toggleable\"><input class=\"sk-toggleable__control sk-hidden--visually\" id=\"sk-estimator-id-1\" type=\"checkbox\" checked><label for=\"sk-estimator-id-1\" class=\"sk-toggleable__label fitted sk-toggleable__label-arrow fitted\">&nbsp;&nbsp;LogisticRegression<a class=\"sk-estimator-doc-link fitted\" rel=\"noreferrer\" target=\"_blank\" href=\"https://scikit-learn.org/1.5/modules/generated/sklearn.linear_model.LogisticRegression.html\">?<span>Documentation for LogisticRegression</span></a><span class=\"sk-estimator-doc-link fitted\">i<span>Fitted</span></span></label><div class=\"sk-toggleable__content fitted\"><pre>LogisticRegression()</pre></div> </div></div></div></div>"
            ]
          },
          "metadata": {},
          "execution_count": 26
        }
      ]
    },
    {
      "cell_type": "markdown",
      "source": [
        "Evaluation\n",
        "\n",
        "accuracy score"
      ],
      "metadata": {
        "id": "3KQL6wS246VV"
      }
    },
    {
      "cell_type": "code",
      "source": [
        "# accuracy score on the training data\n",
        "X_train_prediction = model.predict(X_train)\n",
        "training_data_accuracy = accuracy_score(X_train_prediction, Y_train)"
      ],
      "metadata": {
        "id": "sNByv3gz4rkm"
      },
      "execution_count": null,
      "outputs": []
    },
    {
      "cell_type": "code",
      "source": [
        "print('Accuracy score of the training data : ',training_data_accuracy)"
      ],
      "metadata": {
        "colab": {
          "base_uri": "https://localhost:8080/"
        },
        "id": "W-WbuJx05pJy",
        "outputId": "6147ea69-56df-4146-822c-575d363a4a69"
      },
      "execution_count": null,
      "outputs": [
        {
          "output_type": "stream",
          "name": "stdout",
          "text": [
            "Accuracy score of the training data :  0.9863581730769231\n"
          ]
        }
      ]
    },
    {
      "cell_type": "code",
      "source": [
        "# accuracy score on the testing data\n",
        "X_test_prediction = model.predict(X_test)\n",
        "test_data_accuracy = accuracy_score(X_test_prediction, Y_test)"
      ],
      "metadata": {
        "id": "gQQe--RZ5ykT"
      },
      "execution_count": null,
      "outputs": []
    },
    {
      "cell_type": "code",
      "source": [
        "print('Accuracy score of the testing data : ',test_data_accuracy)"
      ],
      "metadata": {
        "colab": {
          "base_uri": "https://localhost:8080/"
        },
        "id": "Wwe8iSEq6bDF",
        "outputId": "1dc13e65-2c4a-41bf-b98f-890c259cf4f3"
      },
      "execution_count": null,
      "outputs": [
        {
          "output_type": "stream",
          "name": "stdout",
          "text": [
            "Accuracy score of the testing data :  0.9790865384615385\n"
          ]
        }
      ]
    },
    {
      "cell_type": "markdown",
      "source": [
        "Making a Predictive System"
      ],
      "metadata": {
        "id": "He6D14TJ6nEK"
      }
    },
    {
      "cell_type": "code",
      "source": [
        "X_new = X_test[1]\n",
        "\n",
        "prediction = model.predict(X_new)\n",
        "print(prediction)\n",
        "\n",
        "if(prediction[0] == 0):\n",
        "  print('The news is Real')\n",
        "else:\n",
        "  print('The news is Fake')"
      ],
      "metadata": {
        "colab": {
          "base_uri": "https://localhost:8080/"
        },
        "id": "NXc24iJv6fz4",
        "outputId": "9b1897eb-c213-45ba-d86b-59f7dac2651f"
      },
      "execution_count": null,
      "outputs": [
        {
          "output_type": "stream",
          "name": "stdout",
          "text": [
            "[0]\n",
            "The news is Real\n"
          ]
        }
      ]
    },
    {
      "cell_type": "code",
      "source": [
        "print(Y_test[1])"
      ],
      "metadata": {
        "colab": {
          "base_uri": "https://localhost:8080/"
        },
        "id": "8xaMq6eN7NvM",
        "outputId": "b1c5b2e9-0472-4deb-fcb3-c1711099a58c"
      },
      "execution_count": null,
      "outputs": [
        {
          "output_type": "stream",
          "name": "stdout",
          "text": [
            "0\n"
          ]
        }
      ]
    },
    {
      "cell_type": "code",
      "source": [],
      "metadata": {
        "id": "V7cmgjYYCvvr"
      },
      "execution_count": null,
      "outputs": []
    }
  ]
}